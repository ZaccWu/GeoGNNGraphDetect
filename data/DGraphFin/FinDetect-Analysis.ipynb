{
 "cells": [
  {
   "cell_type": "markdown",
   "metadata": {},
   "source": [
    "# DGraph FinDetect Dataset"
   ]
  },
  {
   "cell_type": "code",
   "execution_count": 1,
   "metadata": {
    "pycharm": {
     "name": "#%%\n"
    }
   },
   "outputs": [],
   "source": [
    "import numpy as np\n",
    "import pandas as pd\n",
    "import matplotlib.pyplot as plt\n",
    "import seaborn as sns"
   ]
  },
  {
   "cell_type": "markdown",
   "metadata": {},
   "source": [
    "## 1. DGraph Fault Detection"
   ]
  },
  {
   "cell_type": "markdown",
   "metadata": {},
   "source": [
    "## 1.1. Data Analysis Basic"
   ]
  },
  {
   "cell_type": "code",
   "execution_count": 3,
   "metadata": {},
   "outputs": [
    {
     "name": "stdout",
     "output_type": "stream",
     "text": [
      "Keys in npz file: ['x', 'y', 'edge_index', 'edge_type', 'edge_timestamp', 'train_mask', 'valid_mask', 'test_mask']\n"
     ]
    }
   ],
   "source": [
    "# 1.1.1. Data Size\n",
    "data = np.load('dgraphfin.npz')\n",
    "#data = np.load('./0326_FinDetect/DGraphFin/dgraphfin.npz')\n",
    "print(\"Keys in npz file:\", list(data.keys()))\n",
    "# 3700550 Nodes, 4300999 Edges"
   ]
  },
  {
   "cell_type": "code",
   "execution_count": 5,
   "metadata": {},
   "outputs": [
    {
     "name": "stdout",
     "output_type": "stream",
     "text": [
      "[2735458 3025736 2659385 ...  572867 3250251 1337270] [1809844  875125 2741099 ... 2636374  843893  927421] [ 101097 2114589  549711 ...  305889 1601451  283840]\n",
      "857899 183862 183840\n"
     ]
    }
   ],
   "source": [
    "# 1.1.2. Training Properties\n",
    "print(data['train_mask'], data['valid_mask'], data['test_mask'])\n",
    "print(len(data['train_mask']), len(data['valid_mask']), len(data['test_mask']))\n",
    "# 这个数据集已经保证train/valid/test是y为0或1的节点"
   ]
  },
  {
   "cell_type": "code",
   "execution_count": 50,
   "metadata": {},
   "outputs": [
    {
     "data": {
      "text/plain": [
       "2    1620851\n",
       "0    1210092\n",
       "3     854098\n",
       "1      15509\n",
       "dtype: int64"
      ]
     },
     "execution_count": 50,
     "metadata": {},
     "output_type": "execute_result"
    }
   ],
   "source": [
    "pd.Series(data['y']).value_counts()"
   ]
  },
  {
   "cell_type": "code",
   "execution_count": 46,
   "metadata": {},
   "outputs": [
    {
     "name": "stdout",
     "output_type": "stream",
     "text": [
      "11\n"
     ]
    },
    {
     "data": {
      "text/plain": [
       "5     1604218\n",
       "4      911655\n",
       "6      645389\n",
       "1      362904\n",
       "10     262515\n",
       "3      149977\n",
       "9      125026\n",
       "11      87674\n",
       "8       84338\n",
       "2       51421\n",
       "7       15882\n",
       "dtype: int64"
      ]
     },
     "execution_count": 46,
     "metadata": {},
     "output_type": "execute_result"
    }
   ],
   "source": [
    "pd.Series(data['edge_type']).value_counts()"
   ]
  },
  {
   "cell_type": "code",
   "execution_count": 52,
   "metadata": {},
   "outputs": [],
   "source": [
    "target_node_mask_condition = (data['y'] == 0) | (data['y'] == 1)\n",
    "target_node_mask = target_node_mask_condition.nonzero()[0]"
   ]
  },
  {
   "cell_type": "code",
   "execution_count": 3,
   "metadata": {},
   "outputs": [
    {
     "data": {
      "image/png": "[encoded data removed]",
      "text/plain": [
       "<Figure size 720x216 with 1 Axes>"
      ]
     },
     "metadata": {
      "needs_background": "light"
     },
     "output_type": "display_data"
    }
   ],
   "source": [
    "# 1.1.3. Edge Construction Time Distribution (day)\n",
    "ts_value = pd.DataFrame(data['edge_timestamp'])[0].value_counts()\n",
    "plt.figure(figsize=(10,3))\n",
    "sns.barplot(x=ts_value.index, y=ts_value.values)\n",
    "plt.title('Distribution of Edge Time')\n",
    "plt.tight_layout()\n",
    "plt.show()"
   ]
  },
  {
   "cell_type": "code",
   "execution_count": 9,
   "metadata": {},
   "outputs": [
    {
     "data": {
      "text/html": [
       "<div>\n",
       "<style scoped>\n",
       "    .dataframe tbody tr th:only-of-type {\n",
       "        vertical-align: middle;\n",
       "    }\n",
       "\n",
       "    .dataframe tbody tr th {\n",
       "        vertical-align: top;\n",
       "    }\n",
       "\n",
       "    .dataframe thead th {\n",
       "        text-align: right;\n",
       "    }\n",
       "</style>\n",
       "<table border=\"1\" class=\"dataframe\">\n",
       "  <thead>\n",
       "    <tr style=\"text-align: right;\">\n",
       "      <th></th>\n",
       "      <th>0</th>\n",
       "      <th>1</th>\n",
       "      <th>2</th>\n",
       "      <th>3</th>\n",
       "      <th>4</th>\n",
       "      <th>5</th>\n",
       "      <th>6</th>\n",
       "      <th>7</th>\n",
       "      <th>8</th>\n",
       "      <th>9</th>\n",
       "      <th>10</th>\n",
       "      <th>11</th>\n",
       "      <th>12</th>\n",
       "      <th>13</th>\n",
       "      <th>14</th>\n",
       "      <th>15</th>\n",
       "      <th>16</th>\n",
       "    </tr>\n",
       "  </thead>\n",
       "  <tbody>\n",
       "    <tr>\n",
       "      <th>0</th>\n",
       "      <td>0.0</td>\n",
       "      <td>5.0</td>\n",
       "      <td>-1.0</td>\n",
       "      <td>-1.0</td>\n",
       "      <td>-1.0</td>\n",
       "      <td>-1.0</td>\n",
       "      <td>-1.0</td>\n",
       "      <td>-1.0</td>\n",
       "      <td>-1.0</td>\n",
       "      <td>-1.0</td>\n",
       "      <td>0.0</td>\n",
       "      <td>-1.0</td>\n",
       "      <td>-1.0</td>\n",
       "      <td>-1.0</td>\n",
       "      <td>-1.0</td>\n",
       "      <td>-1.0</td>\n",
       "      <td>-1.0</td>\n",
       "    </tr>\n",
       "    <tr>\n",
       "      <th>1</th>\n",
       "      <td>-1.0</td>\n",
       "      <td>-1.0</td>\n",
       "      <td>-1.0</td>\n",
       "      <td>-1.0</td>\n",
       "      <td>-1.0</td>\n",
       "      <td>-1.0</td>\n",
       "      <td>-1.0</td>\n",
       "      <td>-1.0</td>\n",
       "      <td>-1.0</td>\n",
       "      <td>-1.0</td>\n",
       "      <td>0.0</td>\n",
       "      <td>-1.0</td>\n",
       "      <td>-1.0</td>\n",
       "      <td>-1.0</td>\n",
       "      <td>-1.0</td>\n",
       "      <td>-1.0</td>\n",
       "      <td>-1.0</td>\n",
       "    </tr>\n",
       "    <tr>\n",
       "      <th>2</th>\n",
       "      <td>0.0</td>\n",
       "      <td>5.0</td>\n",
       "      <td>-1.0</td>\n",
       "      <td>-1.0</td>\n",
       "      <td>-1.0</td>\n",
       "      <td>-1.0</td>\n",
       "      <td>-1.0</td>\n",
       "      <td>-1.0</td>\n",
       "      <td>-1.0</td>\n",
       "      <td>-1.0</td>\n",
       "      <td>0.0</td>\n",
       "      <td>-1.0</td>\n",
       "      <td>-1.0</td>\n",
       "      <td>-1.0</td>\n",
       "      <td>-1.0</td>\n",
       "      <td>-1.0</td>\n",
       "      <td>-1.0</td>\n",
       "    </tr>\n",
       "    <tr>\n",
       "      <th>3</th>\n",
       "      <td>1.0</td>\n",
       "      <td>5.0</td>\n",
       "      <td>-1.0</td>\n",
       "      <td>-1.0</td>\n",
       "      <td>-1.0</td>\n",
       "      <td>-1.0</td>\n",
       "      <td>-1.0</td>\n",
       "      <td>-1.0</td>\n",
       "      <td>-1.0</td>\n",
       "      <td>-1.0</td>\n",
       "      <td>0.0</td>\n",
       "      <td>-1.0</td>\n",
       "      <td>-1.0</td>\n",
       "      <td>-1.0</td>\n",
       "      <td>-1.0</td>\n",
       "      <td>-1.0</td>\n",
       "      <td>-1.0</td>\n",
       "    </tr>\n",
       "    <tr>\n",
       "      <th>4</th>\n",
       "      <td>1.0</td>\n",
       "      <td>7.0</td>\n",
       "      <td>-1.0</td>\n",
       "      <td>-1.0</td>\n",
       "      <td>-1.0</td>\n",
       "      <td>-1.0</td>\n",
       "      <td>-1.0</td>\n",
       "      <td>-1.0</td>\n",
       "      <td>-1.0</td>\n",
       "      <td>-1.0</td>\n",
       "      <td>0.0</td>\n",
       "      <td>-1.0</td>\n",
       "      <td>-1.0</td>\n",
       "      <td>-1.0</td>\n",
       "      <td>-1.0</td>\n",
       "      <td>-1.0</td>\n",
       "      <td>-1.0</td>\n",
       "    </tr>\n",
       "  </tbody>\n",
       "</table>\n",
       "</div>"
      ],
      "text/plain": [
       "    0    1    2    3    4    5    6    7    8    9    10   11   12   13   14  \\\n",
       "0  0.0  5.0 -1.0 -1.0 -1.0 -1.0 -1.0 -1.0 -1.0 -1.0  0.0 -1.0 -1.0 -1.0 -1.0   \n",
       "1 -1.0 -1.0 -1.0 -1.0 -1.0 -1.0 -1.0 -1.0 -1.0 -1.0  0.0 -1.0 -1.0 -1.0 -1.0   \n",
       "2  0.0  5.0 -1.0 -1.0 -1.0 -1.0 -1.0 -1.0 -1.0 -1.0  0.0 -1.0 -1.0 -1.0 -1.0   \n",
       "3  1.0  5.0 -1.0 -1.0 -1.0 -1.0 -1.0 -1.0 -1.0 -1.0  0.0 -1.0 -1.0 -1.0 -1.0   \n",
       "4  1.0  7.0 -1.0 -1.0 -1.0 -1.0 -1.0 -1.0 -1.0 -1.0  0.0 -1.0 -1.0 -1.0 -1.0   \n",
       "\n",
       "    15   16  \n",
       "0 -1.0 -1.0  \n",
       "1 -1.0 -1.0  \n",
       "2 -1.0 -1.0  \n",
       "3 -1.0 -1.0  \n",
       "4 -1.0 -1.0  "
      ]
     },
     "execution_count": 9,
     "metadata": {},
     "output_type": "execute_result"
    }
   ],
   "source": [
    "# 1.1.4. Node Feature Analysis\n",
    "'''\n",
    "Value counts: (-1 may be missing value)\n",
    "col0 1: 2423494; 0: 732285; -1: 544771\n",
    "col1 10 diff values\n",
    "col2-16: numerical\n",
    "'''\n",
    "feature_matrix = pd.DataFrame(data['x'])\n",
    "feature_matrix.head(5) # All numerical values"
   ]
  },
  {
   "cell_type": "markdown",
   "metadata": {},
   "source": [
    "## 1.2. Sub-graph Level Analysis"
   ]
  },
  {
   "cell_type": "code",
   "execution_count": 4,
   "metadata": {},
   "outputs": [
    {
     "name": "stdout",
     "output_type": "stream",
     "text": [
      "Num nodes:  3700550 Num edges:  4300999\n",
      "Num nodes:  3700550 Num edges:  4300999\n",
      "{2: 1620851, 3: 854098, 0: 1210092, 1: 15509}\n"
     ]
    }
   ],
   "source": [
    "# 1.2.1. Graph Processing\n",
    "'''\n",
    "data['edge_index'].shape: (4300999, 2)\n",
    "有两列A, B；意思是节点A将节点B设置为它(A)的紧急联系人\n",
    "'''\n",
    "import networkx as nx\n",
    "from collections import Counter\n",
    "G = nx.DiGraph()\n",
    "# add the edges (directed)\n",
    "edges = data['edge_index'].T\n",
    "for e in range(len(edges[0])):\n",
    "    G.add_edge(edges[0][e], edges[1][e]) # 0[A]→1[B]\n",
    "print(\"Num nodes: \", len(G.nodes), \"Num edges: \", len(G.edges))\n",
    "\n",
    "# add the node label (bot or human)\n",
    "label_with_id = pd.DataFrame({'id': list(range(3700550)), 'label': data['y']})\n",
    "label_with_id.set_index('id', inplace=True)\n",
    "for node_id in G.nodes():\n",
    "    G.add_nodes_from([(node_id, {'label': label_with_id.loc[node_id, 'label']})])\n",
    "print(\"Num nodes: \", len(G.nodes), \"Num edges: \", len(G.edges))\n",
    "label_counts = Counter(nx.get_node_attributes(G, 'label').values())\n",
    "print(dict(label_counts))"
   ]
  },
  {
   "cell_type": "code",
   "execution_count": 12,
   "metadata": {},
   "outputs": [
    {
     "name": "stdout",
     "output_type": "stream",
     "text": [
      "0 link 0:  736171 1 link 0:  2789\n",
      "0 link 1:  7062 1 link 1:  249\n",
      "0 link b:  1347990 b link 0:  667991\n",
      "1 link b:  8550 b link 1:  11419\n",
      "b link b:  1518778\n"
     ]
    }
   ],
   "source": [
    "# 1.2.2. Analyzing Relations: \"A is linking b\" graph (A->B, A to B)\n",
    "\n",
    "# fault vs. non fault\n",
    "G_0to0 = G.edge_subgraph([(u,v) for u,v,d in G.edges(data=True) if G.nodes[u]['label']==0 and G.nodes[v]['label']==0])\n",
    "G_1to0 = G.edge_subgraph([(u,v) for u,v,d in G.edges(data=True) if G.nodes[u]['label']==1 and G.nodes[v]['label']==0])\n",
    "G_0to1 = G.edge_subgraph([(u,v) for u,v,d in G.edges(data=True) if G.nodes[u]['label']==0 and G.nodes[v]['label']==1])\n",
    "G_1to1 = G.edge_subgraph([(u,v) for u,v,d in G.edges(data=True) if G.nodes[u]['label']==1 and G.nodes[v]['label']==1])\n",
    "\n",
    "print(\"0 link 0: \", G_0to0.number_of_edges(), \"1 link 0: \", G_1to0.number_of_edges())\n",
    "print(\"0 link 1: \", G_0to1.number_of_edges(), \"1 link 1: \", G_1to1.number_of_edges())\n",
    "\n",
    "# back ground node\n",
    "G_0tob = G.edge_subgraph([(u,v) for u,v,d in G.edges(data=True) if G.nodes[u]['label']==0 and G.nodes[v]['label']>1])\n",
    "G_bto0 = G.edge_subgraph([(u,v) for u,v,d in G.edges(data=True) if G.nodes[u]['label']>1 and G.nodes[v]['label']==0])\n",
    "G_1tob = G.edge_subgraph([(u,v) for u,v,d in G.edges(data=True) if G.nodes[u]['label']==1 and G.nodes[v]['label']>1])\n",
    "G_bto1 = G.edge_subgraph([(u,v) for u,v,d in G.edges(data=True) if G.nodes[u]['label']>1 and G.nodes[v]['label']==1])\n",
    "G_btob = G.edge_subgraph([(u,v) for u,v,d in G.edges(data=True) if G.nodes[u]['label']>1 and G.nodes[v]['label']>1])\n",
    "\n",
    "print(\"0 link b: \", G_0tob.number_of_edges(), \"b link 0: \", G_bto0.number_of_edges())\n",
    "print(\"1 link b: \", G_1tob.number_of_edges(), \"b link 1: \", G_bto1.number_of_edges())\n",
    "print(\"b link b: \", G_btob.number_of_edges())"
   ]
  },
  {
   "cell_type": "code",
   "execution_count": 12,
   "metadata": {},
   "outputs": [],
   "source": [
    "# 1.2.3. Analyzing Ego-Graph Homophily: Ego->Others\n",
    "\n",
    "def cal_fnhomo_rate(Input_G, feature_mat, col_idx=0): # focal-neigbhor homophily\n",
    "    homo_rate = []\n",
    "    for node in Input_G:\n",
    "        feature = feature_mat.loc[node][col_idx]\n",
    "        linking_nodes = list(G.successors(node))\n",
    "        if len(linking_nodes)==0:\n",
    "            continue\n",
    "        sum_s = []\n",
    "        for lkg_node in linking_nodes:\n",
    "            feature_lkg = feature_mat.loc[lkg_node][col_idx]\n",
    "            sum_s.append((feature_lkg == feature))\n",
    "        if len(sum_s)==0:\n",
    "            continue\n",
    "        rate = sum(sum_s) / len(sum_s)\n",
    "        homo_rate.append(rate)\n",
    "    return homo_rate\n",
    "\n",
    "def cal_nnhomo_rate(Input_G, feature_mat, col_idx=0): # neighbors homophily\n",
    "    homo_rate = []\n",
    "    for node in Input_G:\n",
    "        feature = feature_mat.loc[node][col_idx]\n",
    "        linking_nodes = list(G.successors(node))\n",
    "        if len(linking_nodes)==0 or len(linking_nodes)==1:\n",
    "            continue\n",
    "        sum_s = []\n",
    "        for i in range(len(linking_nodes)):\n",
    "            feature_i = feature_mat.loc[linking_nodes[i]][col_idx]\n",
    "            for j in range(i, len(linking_nodes)):\n",
    "                feature_j = feature_mat.loc[linking_nodes[j]][col_idx]\n",
    "                sum_s.append((feature_i == feature_j))\n",
    "        if len(sum_s)==0:\n",
    "            continue\n",
    "        rate = sum(sum_s) / len(sum_s)\n",
    "        homo_rate.append(rate)\n",
    "    return homo_rate\n",
    "\n",
    "# back ground node\n",
    "G_0toj = G.edge_subgraph([(u,v) for u,v,d in G.edges(data=True) if G.nodes[u]['label']==0])\n",
    "G_1toj = G.edge_subgraph([(u,v) for u,v,d in G.edges(data=True) if G.nodes[u]['label']==1])\n",
    "G_jto0 = G.edge_subgraph([(u,v) for u,v,d in G.edges(data=True) if G.nodes[v]['label']==0])\n",
    "G_jto1 = G.edge_subgraph([(u,v) for u,v,d in G.edges(data=True) if G.nodes[v]['label']==1])"
   ]
  },
  {
   "cell_type": "code",
   "execution_count": 14,
   "metadata": {},
   "outputs": [
    {
     "name": "stdout",
     "output_type": "stream",
     "text": [
      "Focal-neighbor homophily\n",
      "0-to-j vs. 1-to-j: 0.6041 0.5580\n",
      "t test 12.6706 (p=0.0000)\n",
      "j-to-0 vs. j-to-1: 0.6041 0.5580\n",
      "t test 12.6706 (p=0.0000)\n",
      "Neighbor-neighbor homophily\n",
      "0-to-j vs. 1-to-j: 0.7906 0.7964\n",
      "t test -4.0363 (p=0.0001)\n",
      "j-to-0 vs. j-to-1: 0.7906 0.7964\n",
      "t test -4.0363 (p=0.0001)\n"
     ]
    }
   ],
   "source": [
    "from scipy import stats\n",
    "# focal-neigbhor homophily\n",
    "fnhomo_0toj, fnhomo_1toj = cal_fnhomo_rate(G_0toj, feature_matrix, col_idx=0), cal_fnhomo_rate(G_1toj, feature_matrix, col_idx=0) # linking others\n",
    "fnhomo_jto0, fnhomo_jto1 = cal_fnhomo_rate(G_0toj.reverse(), feature_matrix, col_idx=0), cal_fnhomo_rate(G_1toj.reverse(), feature_matrix, col_idx=0) # being linked\n",
    "# neigbhor-neighbor homophily\n",
    "nnhomo_0toj, nnhomo_1toj = cal_nnhomo_rate(G_jto0, feature_matrix, col_idx=0), cal_nnhomo_rate(G_jto1, feature_matrix, col_idx=0) # linking others\n",
    "nnhomo_jto0, nnhomo_jto1 = cal_nnhomo_rate(G_jto0.reverse(), feature_matrix, col_idx=0), cal_nnhomo_rate(G_jto1.reverse(), feature_matrix, col_idx=0) # being linked\n",
    "\n",
    "# t test\n",
    "t1, p1 = stats.ttest_ind(fnhomo_0toj, fnhomo_1toj)\n",
    "t2, p2 = stats.ttest_ind(fnhomo_jto0, fnhomo_jto1)\n",
    "t3, p3 = stats.ttest_ind(nnhomo_0toj, nnhomo_1toj)\n",
    "t4, p4 = stats.ttest_ind(nnhomo_jto0, nnhomo_jto1)\n",
    "\n",
    "print(\"Focal-neighbor homophily\")\n",
    "print(\"0-to-j vs. 1-to-j: {:.4f} {:.4f}\".format(np.mean(fnhomo_0toj), np.mean(fnhomo_1toj)))\n",
    "print(\"t test {:.4f} (p={:.4f})\".format(t1, p1))\n",
    "print(\"j-to-0 vs. j-to-1: {:.4f} {:.4f}\".format(np.mean(fnhomo_jto0), np.mean(fnhomo_jto1)))\n",
    "print(\"t test {:.4f} (p={:.4f})\".format(t2, p2))\n",
    "\n",
    "print(\"Neighbor-neighbor homophily\")\n",
    "print(\"0-to-j vs. 1-to-j: {:.4f} {:.4f}\".format(np.mean(nnhomo_0toj), np.mean(nnhomo_1toj)))\n",
    "print(\"t test {:.4f} (p={:.4f})\".format(t3, p3))\n",
    "print(\"j-to-0 vs. j-to-1: {:.4f} {:.4f}\".format(np.mean(nnhomo_jto0), np.mean(nnhomo_jto1)))\n",
    "print(\"t test {:.4f} (p={:.4f})\".format(t4, p4))"
   ]
  },
  {
   "cell_type": "code",
   "execution_count": null,
   "metadata": {},
   "outputs": [],
   "source": []
  }
 ],
 "metadata": {
  "kernelspec": {
   "display_name": "Python 3",
   "language": "python",
   "name": "python3"
  },
  "language_info": {
   "codemirror_mode": {
    "name": "ipython",
    "version": 3
   },
   "file_extension": ".py",
   "mimetype": "text/x-python",
   "name": "python",
   "nbconvert_exporter": "python",
   "pygments_lexer": "ipython3",
   "version": "3.7.6"
  }
 },
 "nbformat": 4,
 "nbformat_minor": 4
}
